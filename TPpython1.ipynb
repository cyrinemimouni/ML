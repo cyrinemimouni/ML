{
  "nbformat": 4,
  "nbformat_minor": 0,
  "metadata": {
    "colab": {
      "provenance": [],
      "toc_visible": true,
      "authorship_tag": "ABX9TyN0zuYjrzTN2AYqw085HLox",
      "include_colab_link": true
    },
    "kernelspec": {
      "name": "python3",
      "display_name": "Python 3"
    },
    "language_info": {
      "name": "python"
    }
  },
  "cells": [
    {
      "cell_type": "markdown",
      "metadata": {
        "id": "view-in-github",
        "colab_type": "text"
      },
      "source": [
        "<a href=\"https://colab.research.google.com/github/cyrinemimouni/ML/blob/main/TPpython1.ipynb\" target=\"_parent\"><img src=\"https://colab.research.google.com/assets/colab-badge.svg\" alt=\"Open In Colab\"/></a>"
      ]
    },
    {
      "cell_type": "code",
      "execution_count": null,
      "metadata": {
        "colab": {
          "base_uri": "https://localhost:8080/"
        },
        "id": "5rFQjx-U8zIS",
        "outputId": "a5201ed5-f9ee-4503-885c-b266e47328cf"
      },
      "outputs": [
        {
          "output_type": "stream",
          "name": "stdout",
          "text": [
            "[1800, 1500, 1200, 1900, 2800, 2900, 4000]\n"
          ]
        },
        {
          "output_type": "execute_result",
          "data": {
            "text/plain": [
              "array([1800, 1500, 1200, 1900, 2800, 2900, 4000])"
            ]
          },
          "metadata": {},
          "execution_count": 25
        }
      ],
      "source": [
        "import numpy as np\n",
        "revenus = [1800, 1500, 1200, 1900, 2800, 2900, 4000]\n",
        "print(revenus)\n",
        "revenus_array = np.array(revenus)\n",
        "revenus_array"
      ]
    },
    {
      "cell_type": "code",
      "source": [
        "i=2\n",
        "j=8\n",
        "p=1\n",
        "np.arange(i, j, j)"
      ],
      "metadata": {
        "colab": {
          "base_uri": "https://localhost:8080/"
        },
        "id": "76R3jS7_Bz7Q",
        "outputId": "ed9818a3-1906-4e92-afd1-8054be316007"
      },
      "execution_count": null,
      "outputs": [
        {
          "output_type": "execute_result",
          "data": {
            "text/plain": [
              "array([2])"
            ]
          },
          "metadata": {},
          "execution_count": 9
        }
      ]
    },
    {
      "cell_type": "code",
      "source": [
        "np.linspace(i, j, 10)"
      ],
      "metadata": {
        "colab": {
          "base_uri": "https://localhost:8080/"
        },
        "id": "tYZkfXPPEJZ0",
        "outputId": "8e7087b6-dc7c-48ef-9870-6077b8a8df6f"
      },
      "execution_count": null,
      "outputs": [
        {
          "output_type": "execute_result",
          "data": {
            "text/plain": [
              "array([2.        , 2.66666667, 3.33333333, 4.        , 4.66666667,\n",
              "       5.33333333, 6.        , 6.66666667, 7.33333333, 8.        ])"
            ]
          },
          "metadata": {},
          "execution_count": 10
        }
      ]
    },
    {
      "cell_type": "code",
      "source": [
        "print(revenus_array[::-2])"
      ],
      "metadata": {
        "colab": {
          "base_uri": "https://localhost:8080/"
        },
        "id": "Nq0ZpwePHF5F",
        "outputId": "7f4b0177-9852-495e-b826-445dd898e99d"
      },
      "execution_count": null,
      "outputs": [
        {
          "output_type": "stream",
          "name": "stdout",
          "text": [
            "[3000 1200 1800]\n"
          ]
        }
      ]
    },
    {
      "cell_type": "code",
      "source": [
        "revenus_array[(revenus_array > 2000) & (revenus_array < 3000)]"
      ],
      "metadata": {
        "colab": {
          "base_uri": "https://localhost:8080/"
        },
        "id": "WNLl60QYJxwO",
        "outputId": "9c9b2dc7-829e-4e74-b66f-d3103aa2b05b"
      },
      "execution_count": null,
      "outputs": [
        {
          "output_type": "execute_result",
          "data": {
            "text/plain": [
              "array([2800, 2900])"
            ]
          },
          "metadata": {},
          "execution_count": 26
        }
      ]
    },
    {
      "cell_type": "code",
      "source": [
        "revenus_array.mean()\n",
        "revenus_array.max()\n",
        "revenus_array.sort()\n",
        "print (revenus_array)\n",
        "revenus_array\n",
        "revenus_array.sum()"
      ],
      "metadata": {
        "colab": {
          "base_uri": "https://localhost:8080/"
        },
        "id": "AvEyyn9WLsN0",
        "outputId": "3fef7a76-f7ff-427a-b1ae-8e516f70d233"
      },
      "execution_count": null,
      "outputs": [
        {
          "output_type": "stream",
          "name": "stdout",
          "text": [
            "[1200 1500 1800 1900 2800 2900 4000]\n"
          ]
        },
        {
          "output_type": "execute_result",
          "data": {
            "text/plain": [
              "16100"
            ]
          },
          "metadata": {},
          "execution_count": 28
        }
      ]
    },
    {
      "cell_type": "code",
      "source": [
        "revenus_array[revenus_array > 2000] += 100\n",
        "revenus_array"
      ],
      "metadata": {
        "colab": {
          "base_uri": "https://localhost:8080/"
        },
        "id": "4q12B_72OlYK",
        "outputId": "6b74398d-326e-4d65-916b-e7a807103d81"
      },
      "execution_count": null,
      "outputs": [
        {
          "output_type": "execute_result",
          "data": {
            "text/plain": [
              "array([1200, 1500, 1800, 1900, 3800, 3900, 5000])"
            ]
          },
          "metadata": {},
          "execution_count": 43
        }
      ]
    },
    {
      "cell_type": "code",
      "source": [
        "hugo = [21,1400,0]\n",
        "richard = [21,1400,0]\n",
        "emilie = [21,1400,0]\n",
        "tableau=[hugo,richard,emilie]\n",
        "\n",
        "tab1 = np.array([[1,2],[3,4],[5,6]])\n",
        "tab2 = np.array([[1,2,3],[4,5,6]])\n",
        "print(tab1)\n",
        "tab2\n",
        "\n",
        "np.ones((3,5))\n",
        "np.zeros((4,4))\n",
        "\n",
        "np.random.random((6,3))\n",
        "\n",
        "np.random.randint(1,10, size=(3,3))\n",
        "\n",
        "\n"
      ],
      "metadata": {
        "colab": {
          "base_uri": "https://localhost:8080/"
        },
        "id": "d2A-MyWjTY64",
        "outputId": "38bdbd21-b4be-471a-b373-a79bf6a0753f"
      },
      "execution_count": null,
      "outputs": [
        {
          "output_type": "stream",
          "name": "stdout",
          "text": [
            "[[1 2]\n",
            " [3 4]\n",
            " [5 6]]\n"
          ]
        },
        {
          "output_type": "execute_result",
          "data": {
            "text/plain": [
              "array([[5, 9, 4],\n",
              "       [7, 5, 6],\n",
              "       [2, 5, 9]])"
            ]
          },
          "metadata": {},
          "execution_count": 50
        }
      ]
    },
    {
      "cell_type": "code",
      "source": [
        "a=np.array([[1,2],[3,4]])\n",
        "b=np.array([[5,10],[15,20]])\n",
        "c=np.array([[2,4,6],[8,10,12]])\n",
        "\n",
        "a+b"
      ],
      "metadata": {
        "colab": {
          "base_uri": "https://localhost:8080/"
        },
        "id": "F6MwphITVy8S",
        "outputId": "ecb15e80-5b02-4e7d-8fa2-ca6d8ca8ab01"
      },
      "execution_count": null,
      "outputs": [
        {
          "output_type": "execute_result",
          "data": {
            "text/plain": [
              "array([[ 6, 12],\n",
              "       [18, 24]])"
            ]
          },
          "metadata": {},
          "execution_count": 52
        }
      ]
    },
    {
      "cell_type": "code",
      "source": [
        "a*b"
      ],
      "metadata": {
        "colab": {
          "base_uri": "https://localhost:8080/"
        },
        "id": "JlB72lxwWZm6",
        "outputId": "b63fb198-b8c2-4659-b83b-8fc417991c57"
      },
      "execution_count": null,
      "outputs": [
        {
          "output_type": "execute_result",
          "data": {
            "text/plain": [
              "array([[ 5, 20],\n",
              "       [45, 80]])"
            ]
          },
          "metadata": {},
          "execution_count": 53
        }
      ]
    },
    {
      "cell_type": "code",
      "source": [
        "a@b"
      ],
      "metadata": {
        "colab": {
          "base_uri": "https://localhost:8080/"
        },
        "id": "oCqnZM7XWfib",
        "outputId": "db79ee5b-5424-421f-b41c-bca01e5a4a64"
      },
      "execution_count": null,
      "outputs": [
        {
          "output_type": "execute_result",
          "data": {
            "text/plain": [
              "array([[ 35,  50],\n",
              "       [ 75, 110]])"
            ]
          },
          "metadata": {},
          "execution_count": 54
        }
      ]
    }
  ]
}