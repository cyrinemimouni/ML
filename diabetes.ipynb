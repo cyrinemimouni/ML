{
  "nbformat": 4,
  "nbformat_minor": 0,
  "metadata": {
    "colab": {
      "provenance": [],
      "authorship_tag": "ABX9TyOMUKNAldlcX3HFidJclfum",
      "include_colab_link": true
    },
    "kernelspec": {
      "name": "python3",
      "display_name": "Python 3"
    },
    "language_info": {
      "name": "python"
    }
  },
  "cells": [
    {
      "cell_type": "markdown",
      "metadata": {
        "id": "view-in-github",
        "colab_type": "text"
      },
      "source": [
        "<a href=\"https://colab.research.google.com/github/cyrinemimouni/ML/blob/main/diabetes.ipynb\" target=\"_parent\"><img src=\"https://colab.research.google.com/assets/colab-badge.svg\" alt=\"Open In Colab\"/></a>"
      ]
    },
    {
      "cell_type": "code",
      "execution_count": null,
      "metadata": {
        "id": "YyZ2WKSPVuCT"
      },
      "outputs": [],
      "source": [
        "import pandas as pd\n",
        "import numpy as np\n",
        "from sklearn.datasets import load_diabetes\n",
        "from sklearn.svm import SVC\n",
        "import matplotlib.pyplot as plt\n",
        "from sklearn.model_selection import train_test_split"
      ]
    },
    {
      "cell_type": "code",
      "source": [
        "# Chargement du dataset \"diabetes\"\n",
        "diab = load_diabetes()\n",
        "x = diab.data\n",
        "y = diab.target\n",
        "\n",
        "#split\n",
        "x_train, x_test, y_train, y_test = train_test_split(x, y, test_size=0.5)\n"
      ],
      "metadata": {
        "id": "gYTZqTwCWPd6"
      },
      "execution_count": null,
      "outputs": []
    },
    {
      "cell_type": "code",
      "source": [
        "x_train"
      ],
      "metadata": {
        "colab": {
          "base_uri": "https://localhost:8080/"
        },
        "id": "lbFcsAFugWH-",
        "outputId": "0f0a8adf-1862-4b30-b7d9-7a37dcc022be"
      },
      "execution_count": null,
      "outputs": [
        {
          "output_type": "execute_result",
          "data": {
            "text/plain": [
              "array([[ 0.09619652, -0.04464164,  0.04013997, ...,  0.03615391,\n",
              "         0.01255119,  0.02377494],\n",
              "       [-0.02730979, -0.04464164,  0.08001901, ...,  0.00331192,\n",
              "        -0.02952643,  0.03620126],\n",
              "       [ 0.04897352,  0.05068012,  0.08864151, ...,  0.03430886,\n",
              "         0.06605067,  0.13146972],\n",
              "       ...,\n",
              "       [-0.00914709,  0.05068012, -0.03961813, ...,  0.07120998,\n",
              "         0.01776532, -0.06735141],\n",
              "       [-0.07816532, -0.04464164, -0.01698407, ..., -0.03949338,\n",
              "        -0.04117617, -0.09220405],\n",
              "       [ 0.0562386 ,  0.05068012, -0.03099563, ..., -0.03949338,\n",
              "        -0.02952643, -0.05906719]])"
            ]
          },
          "metadata": {},
          "execution_count": 109
        }
      ]
    },
    {
      "cell_type": "code",
      "source": [
        "y_test"
      ],
      "metadata": {
        "colab": {
          "base_uri": "https://localhost:8080/"
        },
        "id": "4a5jOcmLgMgi",
        "outputId": "43033809-8290-4f86-d06c-87817ebccfeb"
      },
      "execution_count": null,
      "outputs": [
        {
          "output_type": "execute_result",
          "data": {
            "text/plain": [
              "array([ 77., 280., 217., 259., 141.,  42., 264.,  79., 174.,  80.,  37.,\n",
              "       141., 246.,  42., 214., 336.,  65., 118., 230., 202.,  85.,  90.,\n",
              "       170.,  97., 104.,  40.,  53., 114.,  50.,  77., 111., 100., 252.,\n",
              "       118.,  98., 197., 131., 172.,  63., 145.,  61., 233.,  72., 277.,\n",
              "        96., 128., 142.,  61.,  55., 164.,  69.,  45., 252., 109., 122.,\n",
              "       150., 212., 179., 158., 198., 101.,  91., 161.,  84., 215.,  39.,\n",
              "       168., 275.,  55.,  84.,  47.,  72., 272.,  51., 185., 214., 142.,\n",
              "       178.,  64., 259.,  63., 167., 272.,  97., 236., 276., 163., 104.,\n",
              "        60.,  53., 118.,  58.,  78., 202., 124., 158., 178.,  91., 192.,\n",
              "       178., 129.,  77.,  88., 177.,  55., 265., 187., 139., 293.,  89.,\n",
              "        88., 181., 134.,  63., 341.,  97., 170.,  66., 168., 140., 265.,\n",
              "        71., 131., 303., 150., 142.,  63., 246., 144., 321., 288.,  77.,\n",
              "       109., 281., 273., 200., 235.,  48., 248., 206., 123., 270., 214.,\n",
              "       143., 110., 153., 150., 219.,  91., 138., 102., 144., 248.,  75.,\n",
              "        72., 296.,  52., 152., 196.,  59., 220.,  49.,  99.,  44., 292.,\n",
              "       121.,  25., 147., 178., 230., 277., 135., 111., 233., 103., 258.,\n",
              "       170., 125., 144., 222., 150., 128., 182., 268., 139.,  59., 206.,\n",
              "        84., 202., 180., 174., 135., 140., 171., 151., 152.,  69., 311.,\n",
              "       219.,  72., 151., 154., 128.,  68., 189.,  60., 317., 191., 292.,\n",
              "        92.,  84., 136., 173., 200., 185.,  85.,  59.,  52., 181., 198.,\n",
              "       172.])"
            ]
          },
          "metadata": {},
          "execution_count": 110
        }
      ]
    },
    {
      "cell_type": "code",
      "source": [
        "# Création du modèle SVM avec un noyau linéaire\n",
        "model = SVC(kernel='linear')\n",
        "\n",
        "# Entraînement du modèle\n",
        "model.fit(x_train, y_train)\n",
        "\n",
        "#Prédection\n",
        "pred=model.predict(x_test)\n",
        "y_pred = model.predict(x_test)"
      ],
      "metadata": {
        "id": "RyoulNgLXH4p"
      },
      "execution_count": null,
      "outputs": []
    },
    {
      "cell_type": "code",
      "source": [
        "from sklearn.metrics import accuracy_score\n",
        "dt_score= accuracy_score(y_test,y_pred)\n",
        "#afficher le score\n",
        "dt_score"
      ],
      "metadata": {
        "colab": {
          "base_uri": "https://localhost:8080/"
        },
        "id": "zhPIu0m8hc80",
        "outputId": "33a0c064-14b1-4d6b-cd8c-1d7f8d692248"
      },
      "execution_count": null,
      "outputs": [
        {
          "output_type": "execute_result",
          "data": {
            "text/plain": [
              "0.013574660633484163"
            ]
          },
          "metadata": {},
          "execution_count": 112
        }
      ]
    },
    {
      "cell_type": "code",
      "source": [
        "# Création du modèle SVM avec un noyau poly\n",
        "model = SVC(kernel='poly')\n",
        "\n",
        "# Entraînement du modèle\n",
        "model.fit(x_train, y_train)\n",
        "\n",
        "#Prédection\n",
        "y_pred = model.predict(x_test)\n",
        "\n",
        "#calcul le score\n",
        "dt_score= accuracy_score(y_test,y_pred)\n",
        "#afficher le score\n",
        "dt_score"
      ],
      "metadata": {
        "colab": {
          "base_uri": "https://localhost:8080/"
        },
        "id": "GhDu5vkIiDeE",
        "outputId": "ac208a09-d86e-4383-bf5a-2e982c8adbc3"
      },
      "execution_count": null,
      "outputs": [
        {
          "output_type": "execute_result",
          "data": {
            "text/plain": [
              "0.013574660633484163"
            ]
          },
          "metadata": {},
          "execution_count": 113
        }
      ]
    }
  ]
}